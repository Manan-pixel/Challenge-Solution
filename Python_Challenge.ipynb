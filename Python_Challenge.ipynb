{
  "nbformat": 4,
  "nbformat_minor": 0,
  "metadata": {
    "colab": {
      "provenance": [],
      "authorship_tag": "ABX9TyOECfEOBFQxEiFw3Ig+8F0X",
      "include_colab_link": true
    },
    "kernelspec": {
      "name": "python3",
      "display_name": "Python 3"
    },
    "language_info": {
      "name": "python"
    }
  },
  "cells": [
    {
      "cell_type": "markdown",
      "metadata": {
        "id": "view-in-github",
        "colab_type": "text"
      },
      "source": [
        "<a href=\"https://colab.research.google.com/github/Manan-pixel/Challenge-Solution/blob/main/Python_Challenge.ipynb\" target=\"_parent\"><img src=\"https://colab.research.google.com/assets/colab-badge.svg\" alt=\"Open In Colab\"/></a>"
      ]
    },
    {
      "cell_type": "code",
      "execution_count": null,
      "metadata": {
        "colab": {
          "base_uri": "https://localhost:8080/"
        },
        "id": "1WR23etgs0NO",
        "outputId": "54c4557a-beef-4099-f8bc-b12c389baae7"
      },
      "outputs": [
        {
          "output_type": "stream",
          "name": "stdout",
          "text": [
            "['Ram', '1', 'Shyam', '2', 'Aman', '3']\n",
            "[1, 2, 3, 'Aman', 'Ram', 'Shyam']\n",
            "0.0003616809844970703\n"
          ]
        }
      ],
      "source": [
        "import time as t\n",
        "\n",
        "t1=t.time()\n",
        "L=[\"Ram\",1,\"Shyam\",2,\"Aman\",3]\n",
        "\n",
        "L=[str(i) for i in L]\n",
        "\n",
        "print(L)\n",
        "L.sort()\n",
        "\n",
        "L1=[]\n",
        "for i in L:\n",
        "  try:\n",
        "    L1.append(int(i))\n",
        "  except:\n",
        "    L1.append(i)\n",
        "\n",
        "t2=t.time()\n",
        "print(L1)\n",
        "print(t2-t1)"
      ]
    },
    {
      "cell_type": "code",
      "source": [
        "import time as t\n",
        "\n",
        "t1=t.time()\n",
        "\n",
        "for i in range(100):\n",
        "  for j in range(100):\n",
        "    x=900\n",
        "\n",
        "t2=t.time()\n",
        "\n",
        "print(\"Total Time: \",t2-t1)"
      ],
      "metadata": {
        "colab": {
          "base_uri": "https://localhost:8080/"
        },
        "id": "uM_O0YvJvweV",
        "outputId": "d09e46ec-5107-4b14-e3fe-c74bf50e83bb"
      },
      "execution_count": null,
      "outputs": [
        {
          "output_type": "stream",
          "name": "stdout",
          "text": [
            "Total Time:  0.0013873577117919922\n"
          ]
        }
      ]
    }
  ]
}